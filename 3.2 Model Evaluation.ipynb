{
 "cells": [
  {
   "cell_type": "markdown",
   "metadata": {},
   "source": [
    "## Model Evaluation Demo"
   ]
  },
  {
   "cell_type": "markdown",
   "metadata": {},
   "source": [
    "We adopt the dataset from Genome-wide cell-free DNA fragmentation in patients with cancer as the example."
   ]
  },
  {
   "cell_type": "markdown",
   "metadata": {},
   "source": [
    "## Some Package Import and Data Preparation"
   ]
  },
  {
   "cell_type": "code",
   "execution_count": 1,
   "metadata": {},
   "outputs": [
    {
     "name": "stderr",
     "output_type": "stream",
     "text": [
      "D:\\Program files\\Anaconda\\lib\\site-packages\\sklearn\\cross_validation.py:41: DeprecationWarning: This module was deprecated in version 0.18 in favor of the model_selection module into which all the refactored classes and functions are moved. Also note that the interface of the new CV iterators are different from that of this module. This module will be removed in 0.20.\n",
      "  \"This module will be removed in 0.20.\", DeprecationWarning)\n",
      "D:\\Program files\\Anaconda\\lib\\site-packages\\sklearn\\feature_extraction\\text.py:17: DeprecationWarning: Using or importing the ABCs from 'collections' instead of from 'collections.abc' is deprecated since Python 3.3,and in 3.9 it will stop working\n",
      "  from collections import Mapping, defaultdict\n",
      "D:\\Program files\\Anaconda\\lib\\site-packages\\sklearn\\ensemble\\weight_boosting.py:29: DeprecationWarning: numpy.core.umath_tests is an internal NumPy module and should not be imported. It will be removed in a future NumPy release.\n",
      "  from numpy.core.umath_tests import inner1d\n",
      "D:\\Program files\\Anaconda\\lib\\site-packages\\sklearn\\grid_search.py:14: DeprecationWarning: Using or importing the ABCs from 'collections' instead of from 'collections.abc' is deprecated since Python 3.3,and in 3.9 it will stop working\n",
      "  from collections import Mapping, namedtuple, Sized\n",
      "D:\\Program files\\Anaconda\\lib\\site-packages\\sklearn\\grid_search.py:42: DeprecationWarning: This module was deprecated in version 0.18 in favor of the model_selection module into which all the refactored classes and functions are moved. This module will be removed in 0.20.\n",
      "  DeprecationWarning)\n",
      "D:\\Program files\\Anaconda\\lib\\site-packages\\sklearn\\learning_curve.py:22: DeprecationWarning: This module was deprecated in version 0.18 in favor of the model_selection module into which all the functions are moved. This module will be removed in 0.20\n",
      "  DeprecationWarning)\n"
     ]
    },
    {
     "name": "stdout",
     "output_type": "stream",
     "text": [
      "The number of samples and features are 423 and 45, respectively\n"
     ]
    }
   ],
   "source": [
    "import pandas as pd\n",
    "from numpy import *\n",
    "from sklearn import *\n",
    "\n",
    "\n",
    "xl = pd.ExcelFile('data2.xlsx')\n",
    "xl.sheet_names # we'll take 7th\n",
    "dfs = {sheet: xl.parse(sheet) for sheet in xl.sheet_names}\n",
    "data1 = dfs['7']\n",
    "data2 = dfs['1'].loc[:,['Patient','Age at Diagnosis']].drop([554]).drop_duplicates()\n",
    "data3 = pd.read_csv('data1.csv')\n",
    "combined_data = data1.set_index('Patient').join(data2.set_index('Patient')).join(data3.set_index('Patient'))\n",
    "combined_data['label'] = (combined_data['Patient Type'] == 'Healthy').astype(int)\n",
    "combined_data = combined_data.drop(['Patient Type'],axis=1)\n",
    "print('The number of samples and features are %d and %d, respectively'%(combined_data.shape[0],combined_data.shape[1]))\n",
    "\n",
    "x = combined_data.iloc[:, 0:44]\n",
    "x[isnan(x)] = 0\n",
    "y=combined_data.iloc[:,44]"
   ]
  },
  {
   "cell_type": "markdown",
   "metadata": {},
   "source": [
    "## Holdout Method"
   ]
  },
  {
   "cell_type": "code",
   "execution_count": 47,
   "metadata": {},
   "outputs": [
    {
     "name": "stdout",
     "output_type": "stream",
     "text": [
      "Accuracy: 0.91 (0.00)\n"
     ]
    }
   ],
   "source": [
    "##---  Evaluate a SVM model using holdout method ---##\n",
    "\n",
    "from sklearn.model_selection import train_test_split\n",
    "\n",
    "##---  Split the dataset into training set and test set ---##\n",
    "x_train, x_test, y_train, y_test = train_test_split(x, y, test_size=0.3, random_state=42)\n",
    "##---  creat and train the model ---##\n",
    "clf = svm.SVC(kernel = 'rbf', gamma='auto', probability=True).fit(x_train,y_train)\n",
    "##---  Make the prediction ---##\n",
    "y_pred = clf.predict(x_test)\n",
    "\n",
    "##---  Evaluate model: we use the accuracy as the example ---##\n",
    "scores = metrics.accuracy_score(y_test, y_pred)\n",
    "##---  Report performance ---##\n",
    "print('Accuracy: %.2f (%.2f)' % (mean(scores), std(scores)))"
   ]
  },
  {
   "cell_type": "markdown",
   "metadata": {},
   "source": [
    "## K-fold cross validation"
   ]
  },
  {
   "cell_type": "code",
   "execution_count": 49,
   "metadata": {},
   "outputs": [
    {
     "name": "stdout",
     "output_type": "stream",
     "text": [
      "Accuracy: 0.86 (0.03)\n"
     ]
    }
   ],
   "source": [
    "##---  Evaluate a SVM model using k-fold cross-validation ---##\n",
    "\n",
    "from sklearn.model_selection import KFold\n",
    "\n",
    "##---  Prepare the cross-validation procedure ---##\n",
    "KF = KFold(n_splits=5,shuffle=True, random_state=920)\n",
    "##---   If we want to make sure that the proportion of samples in the training and test set is the same as in the original dataset, we should adopt 'StratifiedKFold' ---##\n",
    "# KF = StratifiedKFold(n_outer,shuffle=True, random_state=920+i)\n",
    "\n",
    "scores = []\n",
    "for train_index,test_index in KF.split(x,y):\n",
    "    ##---  Seperate traing set and test set ---##\n",
    "    x_train, x_test = x.iloc[train_index][:], x.iloc[test_index][:]\n",
    "    y_train, y_test = y.iloc[train_index][:],y.iloc[test_index][:]\n",
    "    ##---  creat and train the model ---##\n",
    "    clf = svm.SVC(kernel = 'rbf', gamma='auto', probability=True).fit(x_train,y_train)\n",
    "    ##---  Make the prediction ---##\n",
    "    y_pred = clf.predict(x_test)\n",
    "    ##---  Evaluate model on the specific test set ---##\n",
    "    score = metrics.accuracy_score(y_test, y_pred)\n",
    "    scores.append(score) \n",
    "\n",
    "##---  Report performance ---##\n",
    "print('Accuracy: %.2f (%.2f)' % (mean(scores), std(scores)))"
   ]
  },
  {
   "cell_type": "markdown",
   "metadata": {},
   "source": [
    "## Bootstraping"
   ]
  },
  {
   "cell_type": "code",
   "execution_count": 53,
   "metadata": {},
   "outputs": [
    {
     "name": "stdout",
     "output_type": "stream",
     "text": [
      "Accuracy: 0.88 (0.00)\n"
     ]
    }
   ],
   "source": [
    "##---  Evaluate a SVM model using 0.632+bootstrap ---##\n",
    "\n",
    "from mlxtend.evaluate import bootstrap_point632_score,BootstrapOutOfBag\n",
    "\n",
    "\n",
    "##---  Prepare the bootstrap procedure ---##\n",
    "oob = BootstrapOutOfBag(n_splits=1,random_seed = 920)\n",
    "\n",
    "scores = []\n",
    "for train_index, test_index in oob.split(x,y):\n",
    "    ##---  Seperate traing set and test set ---##\n",
    "    x_train, x_test = x.iloc[train_index][:], x.iloc[test_index][:]\n",
    "    y_train, y_test = y.iloc[train_index][:],y.iloc[test_index][:]\n",
    "    ##---  creat and train the model ---##\n",
    "    clf = svm.SVC(kernel = 'rbf', gamma='auto', probability=True).fit(x_train,y_train)\n",
    "    ##---  Make the prediction ---##\n",
    "    y_predtrain = clf.predict(x_train)\n",
    "    y_pred = clf.predict(x_test)\n",
    "    \n",
    "    ##---  Evaluate model on the specific test set ---##\n",
    "    \n",
    "    # Compute error\n",
    "    E_resub = metrics.accuracy_score(y_train, y_predtrain)\n",
    "    E_loop = metrics.accuracy_score(y_test, y_pred)\n",
    "    # compute no-information-rate\n",
    "    y_pred = clf.predict(x)\n",
    "    length = len(y_pred)\n",
    "    gamma = sum(y==0)/length*(1-sum(y_pred==0)/length)+sum(y==1)/length*(1-sum(y_pred==1)/length)\n",
    "    # compute error under 0.632\n",
    "    E_632 = 0.368*E_resub + 0.632*E_loop\n",
    "    # compute R\n",
    "    if gamma > E_resub:\n",
    "        R = (E_loop - E_resub) / (gamma - E_resub)\n",
    "    else:\n",
    "        R = 0\n",
    "        E_resub = gamma\n",
    "    # compute error under 0.632+\n",
    "    E_632plus = E_632 + (E_resub - E_loop)*(0.368*0.632*R/(1-0.368*R))\n",
    "    scores.append(E_632plus) \n",
    "\n",
    "##---  Report performance ---##\n",
    "print('Accuracy: %.2f (%.2f)' % (mean(scores), std(scores)))"
   ]
  },
  {
   "cell_type": "markdown",
   "metadata": {},
   "source": [
    "## Performance Evaluation Metrics"
   ]
  },
  {
   "cell_type": "code",
   "execution_count": 52,
   "metadata": {},
   "outputs": [
    {
     "data": {
      "image/png": "[encoded data removed]",
      "text/plain": [
       "<Figure size 576x576 with 1 Axes>"
      ]
     },
     "metadata": {
      "needs_background": "light"
     },
     "output_type": "display_data"
    },
    {
     "name": "stdout",
     "output_type": "stream",
     "text": [
      "Confusion matrix is:\n",
      " [[67  8]\n",
      " [ 4 48]]\n",
      "Accuracy is 0.91\n",
      "Precision is 0.86\n",
      "Recall is 0.92\n",
      "F1 is 0.89\n",
      "F_beta is 1.11\n",
      "Brier score is 0.07\n",
      "AUC is 0.97\n",
      "\n"
     ]
    }
   ],
   "source": [
    "##---  Evaluate a SVM model using different performance evaluation metrics under holdout method ---##\n",
    "import matplotlib.pyplot as plt\n",
    "from sklearn.model_selection import train_test_split\n",
    "\n",
    "##---  Split the dataset into training set and test set ---##\n",
    "x_train, x_test, y_train, y_test = train_test_split(x, y, test_size=0.3, random_state=42)\n",
    "##---  creat and train the model ---##\n",
    "clf = svm.SVC(kernel = 'rbf', gamma='auto', probability=True).fit(x_train,y_train)\n",
    "##---  Make the prediction ---##\n",
    "y_pred = clf.predict(x_test)\n",
    "y_score = clf.predict_proba(x_test)\n",
    "\n",
    "##---  Different performance evaluation metrics ---##\n",
    "# Confusion matrix\n",
    "cm = metrics.confusion_matrix(y_test,y_pred)\n",
    "# Accuracy\n",
    "a = metrics.accuracy_score(y_test, y_pred)\n",
    "# Precision\n",
    "p = metrics.precision_score(y_test, y_pred)\n",
    "# Recall\n",
    "r = metrics.recall_score(y_test, y_pred)\n",
    "# F_1 score\n",
    "f1score = metrics.f1_score(y_test, y_pred)\n",
    "# F_beta score\n",
    "beta = 2\n",
    "Fbeta = metrics.f1_score(y_test, y_pred)/2*((1+beta**2)/beta)\n",
    "# Brier score\n",
    "BS = metrics.brier_score_loss(y_test, y_score[:,1])\n",
    "\n",
    "# Calculate AUC\n",
    "fpr, tpr, threshold = metrics.roc_curve(y_test, y_score[:,1], pos_label=1)\n",
    "roc_auc = metrics.auc(fpr,tpr)\n",
    "# Plot ROC\n",
    "plt.figure(figsize=(8,8))\n",
    "plt.plot(fpr, tpr, lw=2, label='SVM (AUC = %0.2f)' % roc_auc, linestyle='--')\n",
    "plt.plot([0, 1], [0, 1], color='navy', lw=2, linestyle='--')\n",
    "plt.xlim([0.0, 1.0])\n",
    "plt.ylim([0.0, 1.0])\n",
    "plt.xlabel('False Positive Rate')\n",
    "plt.ylabel('True Positive Rate')\n",
    "plt.title('Receiver operating characteristic example')\n",
    "plt.legend(loc=\"lower right\")\n",
    "plt.show()\n",
    "\n",
    "##---  Report performance ---##\n",
    "print('Confusion matrix is:\\n',cm)\n",
    "print('Accuracy is %0.2f\\nPrecision is %0.2f\\nRecall is %0.2f\\nF1 is %0.2f'% (a, p, r, f1score))\n",
    "print('F_beta is %0.2f\\nBrier score is %0.2f\\nAUC is %0.2f\\n'% (Fbeta,BS,roc_auc))"
   ]
  }
 ],
 "metadata": {
  "kernelspec": {
   "display_name": "Python 3",
   "language": "python",
   "name": "python3"
  },
  "language_info": {
   "codemirror_mode": {
    "name": "ipython",
    "version": 3
   },
   "file_extension": ".py",
   "mimetype": "text/x-python",
   "name": "python",
   "nbconvert_exporter": "python",
   "pygments_lexer": "ipython3",
   "version": "3.7.6"
  }
 },
 "nbformat": 4,
 "nbformat_minor": 4
}
