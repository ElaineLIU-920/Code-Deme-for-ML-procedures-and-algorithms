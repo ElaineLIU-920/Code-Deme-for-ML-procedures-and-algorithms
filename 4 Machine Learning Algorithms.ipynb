{
 "cells": [
  {
   "cell_type": "markdown",
   "id": "363fb7a9",
   "metadata": {},
   "source": [
    "# Machine Learning Algorithms"
   ]
  },
  {
   "cell_type": "markdown",
   "id": "12269ca1",
   "metadata": {},
   "source": [
    "## Some Package Import and Data Preparation"
   ]
  },
  {
   "cell_type": "code",
   "execution_count": 2,
   "id": "283a638c",
   "metadata": {},
   "outputs": [
    {
     "name": "stdout",
     "output_type": "stream",
     "text": [
      "The number of samples and features are 423 and 45, respectively\n"
     ]
    }
   ],
   "source": [
    "import pandas as pd\n",
    "import numpy as np\n",
    "import warnings\n",
    "import time\n",
    "\n",
    "\n",
    "from numpy import *\n",
    "from sklearn import *\n",
    "from sklearn.metrics import roc_curve, auc\n",
    "from skopt import BayesSearchCV\n",
    "from skopt.space import Real, Categorical, Integer\n",
    "\n",
    "warnings.filterwarnings('ignore')\n",
    "\n",
    "xl = pd.ExcelFile('data2.xlsx')\n",
    "xl.sheet_names # we'll take 7th\n",
    "dfs = {sheet: xl.parse(sheet) for sheet in xl.sheet_names}\n",
    "data1 = dfs['7']\n",
    "data2 = dfs['1'].loc[:,['Patient','Age at Diagnosis']].drop([554]).drop_duplicates()\n",
    "data3 = pd.read_csv('data1.csv')\n",
    "combined_data = data1.set_index('Patient').join(data2.set_index('Patient')).join(data3.set_index('Patient'))\n",
    "combined_data['label'] = (combined_data['Patient Type'] == 'Healthy').astype(int)\n",
    "combined_data = combined_data.drop(['Patient Type'],axis=1)\n",
    "print('The number of samples and features are %d and %d, respectively'%(combined_data.shape[0],combined_data.shape[1]))\n",
    "\n",
    "x = combined_data.iloc[:, 0:44]\n",
    "x[isnan(x)] = 0\n",
    "y = combined_data.iloc[:,44]"
   ]
  },
  {
   "cell_type": "markdown",
   "id": "e7b51008",
   "metadata": {},
   "source": [
    "- SVM"
   ]
  },
  {
   "cell_type": "code",
   "execution_count": 3,
   "id": "95f594aa",
   "metadata": {},
   "outputs": [
    {
     "name": "stdout",
     "output_type": "stream",
     "text": [
      "Performance on 0-fold is 0.92\n",
      "Performance on 1-fold is 0.94\n",
      "Performance on 2-fold is 0.87\n",
      "Performance on 3-fold is 0.94\n",
      "Performance on 4-fold is 0.94\n",
      "Mean score over k-fold outer loop is 0.92\n"
     ]
    }
   ],
   "source": [
    "# ---------------------------------------------------#   \n",
    "#                       SVM                         #\n",
    "#--------------------------------------------------# \n",
    "\n",
    "##---   Define search space   ---##\n",
    "search_spaces = {'kernel': Categorical(['linear', 'poly', 'rbf']),\n",
    "              'degree':Integer(1,3),\n",
    "              'C':Real(1e-4, 1e+2, prior='log-uniform'),\n",
    "              'gamma':Real(1e-6, 1e+1, prior='log-uniform')}\n",
    "\n",
    "n_outer = 5 # number of splits for outer loop\n",
    "n_inner = 5 # number of splits for inner loop\n",
    "\n",
    "##---   Classification with nested 5*5-fold cross-validation   ---##\n",
    "#---  define outer loop of K-fold cross validation for model evaluation ---#\n",
    "KF = model_selection.StratifiedKFold(n_outer, shuffle=True, random_state=920)\n",
    "score_kfold = []\n",
    "i = 0\n",
    "for train_index,test_index in KF.split(x,y):\n",
    "    #---  Seperate traing set and test set ---#\n",
    "    x_train, x_test = x.iloc[train_index][:], x.iloc[test_index][:]\n",
    "    y_train = y.iloc[train_index][:]\n",
    "        \n",
    "    #---  Fill NaN age ---#\n",
    "    x_train[isnan(x_train)] = 0\n",
    "    x_test[isnan(x_test)] = 0  \n",
    "        \n",
    "    ##---  optimize SVM with Genetic Algorithm under inner loop cross validation   ---##\n",
    "    opt = BayesSearchCV(svm.SVC(probability = True), search_spaces, n_iter=30, cv=n_inner, scoring='neg_brier_score', random_state=920)\n",
    "    # executes bayesian optimization\n",
    "    clf = opt.fit(x_train, y_train)\n",
    "        \n",
    "    # Calculate performance on test set\n",
    "    fpr, tpr, threshold = roc_curve(y.iloc[test_index][:].values, clf.predict_proba(x_test)[:,1], pos_label=1)\n",
    "    score_kfold.append(auc(fpr,tpr))\n",
    "    print('Performance on %d-fold is %.2f' %(i,score_kfold[i]))\n",
    "    i+=1\n",
    "\n",
    " \n",
    "print('Mean score over k-fold outer loop is %.2f' %mean(score_kfold))"
   ]
  },
  {
   "cell_type": "markdown",
   "id": "6e965a35",
   "metadata": {},
   "source": [
    "- LASSO"
   ]
  },
  {
   "cell_type": "code",
   "execution_count": 4,
   "id": "ec75e87b",
   "metadata": {},
   "outputs": [
    {
     "name": "stdout",
     "output_type": "stream",
     "text": [
      "Performance on 0-fold is 0.90\n",
      "Performance on 1-fold is 0.88\n",
      "Performance on 2-fold is 0.87\n",
      "Performance on 3-fold is 0.93\n",
      "Performance on 4-fold is 0.90\n",
      "Mean score over k-fold outer loop is 0.90\n"
     ]
    }
   ],
   "source": [
    "# ---------------------------------------------------#   \n",
    "#                        LASSO                      #\n",
    "#--------------------------------------------------# \n",
    "\n",
    "##---   Define search space   ---##\n",
    "search_spaces = {'alpha':Real(1e-2, 2, prior='log-uniform')}\n",
    "\n",
    "n_outer = 5 # number of splits for outer loop\n",
    "n_inner = 5 # number of splits for inner loop\n",
    "\n",
    "##---   Classification with nested 5*5-fold cross-validation for model evaluation   ---##\n",
    "#---  define outer loop of K-fold cross validation ---#\n",
    "KF = model_selection.StratifiedKFold(n_outer, shuffle=True, random_state=920)\n",
    "score_kfold = []\n",
    "i = 0\n",
    "for train_index,test_index in KF.split(x,y):\n",
    "    #---  Seperate traing set and test set ---#\n",
    "    x_train, x_test = x.iloc[train_index][:], x.iloc[test_index][:]\n",
    "    y_train = y.iloc[train_index][:]\n",
    "        \n",
    "    #---  Fill NaN age ---#\n",
    "    x_train[isnan(x_train)] = 0\n",
    "    x_test[isnan(x_test)] = 0  \n",
    "        \n",
    "    ##---  optimize LASSO with Genetic Algorithm under inner loop cross validation   ---##\n",
    "    opt = BayesSearchCV(linear_model.Lasso(), search_spaces, n_iter=30, cv=n_inner, scoring='neg_mean_absolute_error', random_state=920)\n",
    "    # executes bayesian optimization\n",
    "    clf = opt.fit(x_train, y_train)\n",
    "        \n",
    "    # Calculate performance on test set\n",
    "    fpr, tpr, threshold = roc_curve(y.iloc[test_index][:].values, clf.predict(x_test), pos_label=1)\n",
    "    score_kfold.append(auc(fpr,tpr))\n",
    "    print('Performance on %d-fold is %.2f' %(i,score_kfold[i]))\n",
    "    i+=1\n",
    "\n",
    "print('Mean score over k-fold outer loop is %.2f' %mean(score_kfold))"
   ]
  },
  {
   "cell_type": "markdown",
   "id": "b6bd8ad2",
   "metadata": {},
   "source": [
    "- Random Forest"
   ]
  },
  {
   "cell_type": "code",
   "execution_count": 7,
   "id": "2845c30f",
   "metadata": {},
   "outputs": [
    {
     "name": "stdout",
     "output_type": "stream",
     "text": [
      "Performance on 0-fold is 0.86\n",
      "Performance on 1-fold is 0.85\n",
      "Performance on 2-fold is 0.82\n",
      "Performance on 3-fold is 0.88\n",
      "Performance on 4-fold is 0.87\n",
      "Mean score over k-fold outer loop is 0.86\n"
     ]
    }
   ],
   "source": [
    "# ---------------------------------------------------#   \n",
    "#                  Random Forest                    #\n",
    "#--------------------------------------------------# \n",
    "\n",
    "##---   Define search space   ---##\n",
    "search_spaces = {'n_estimators':Integer (1e0, 1e+2, prior='log-uniform')}\n",
    "\n",
    "\n",
    "n_outer = 5 # number of splits for outer loop\n",
    "n_inner = 5 # number of splits for inner loop\n",
    "\n",
    "##---   Classification with nested 5*5-fold cross-validation for model evaluation   ---##\n",
    "#---  define outer loop of K-fold cross validation ---#\n",
    "KF = model_selection.StratifiedKFold(n_outer, shuffle=True, random_state=920)\n",
    "score_kfold = []\n",
    "i = 0\n",
    "for train_index,test_index in KF.split(x,y):\n",
    "    #---  Seperate traing set and test set ---#\n",
    "    x_train, x_test = x.iloc[train_index][:], x.iloc[test_index][:]\n",
    "    y_train = y.iloc[train_index][:]\n",
    "        \n",
    "    #---  Fill NaN age ---#\n",
    "    x_train[isnan(x_train)] = 0\n",
    "    x_test[isnan(x_test)] = 0  \n",
    "        \n",
    "    ##---  optimize RF with Genetic Algorithm under inner loop cross validation   ---##\n",
    "    opt = BayesSearchCV(ensemble.RandomForestClassifier(), search_spaces, n_iter=30, cv=n_inner, scoring='neg_mean_absolute_error', random_state=920)\n",
    "    # executes bayesian optimization\n",
    "    clf = opt.fit(x_train, y_train)\n",
    "        \n",
    "    # Calculate performance on test set\n",
    "    fpr, tpr, threshold = roc_curve(y.iloc[test_index][:].values, clf.predict(x_test), pos_label=1)\n",
    "    score_kfold.append(auc(fpr,tpr))\n",
    "    print('Performance on %d-fold is %.2f' %(i,score_kfold[i]))\n",
    "    i+=1\n",
    "\n",
    "print('Mean score over k-fold outer loop is %.2f' %mean(score_kfold))"
   ]
  },
  {
   "cell_type": "markdown",
   "id": "0cf120ab",
   "metadata": {},
   "source": [
    "- Multi Layer Perceptron"
   ]
  },
  {
   "cell_type": "code",
   "execution_count": 6,
   "id": "0bb5bdb7",
   "metadata": {},
   "outputs": [
    {
     "name": "stdout",
     "output_type": "stream",
     "text": [
      "Performance on 0-fold is 0.93\n",
      "Performance on 1-fold is 0.91\n",
      "Performance on 2-fold is 0.88\n",
      "Performance on 3-fold is 0.94\n",
      "Performance on 4-fold is 0.89\n",
      "Mean score over k-fold outer loop is 0.91\n"
     ]
    }
   ],
   "source": [
    "# ---------------------------------------------------#   \n",
    "#              Multi Layer Perceptron               #\n",
    "#--------------------------------------------------# \n",
    "\n",
    "##---   Define search space   ---##\n",
    "search_spaces = {'activation': Categorical(['identity','logistic','tanh','relu']),\n",
    "                 'hidden_layer_sizes':Integer(1,1e+3, prior='log-uniform'),\n",
    "                 'alpha':Real(1e-4, 1e+2, prior='log-uniform'),\n",
    "                 'learning_rate_init':Real(1e-6, 1e+1, prior='log-uniform')}\n",
    "\n",
    "n_outer = 5 # number of splits for outer loop\n",
    "n_inner = 5 # number of splits for inner loop\n",
    "\n",
    "##---   Classification with nested 5*5-fold cross-validation   ---##\n",
    "#---  define outer loop of K-fold cross validation for model evaluation ---#\n",
    "KF = model_selection.StratifiedKFold(n_outer, shuffle=True, random_state=920)\n",
    "score_kfold = []\n",
    "i = 0\n",
    "for train_index,test_index in KF.split(x,y):\n",
    "    #---  Seperate traing set and test set ---#\n",
    "    x_train, x_test = x.iloc[train_index][:], x.iloc[test_index][:]\n",
    "    y_train = y.iloc[train_index][:]\n",
    "        \n",
    "    #---  Fill NaN age ---#\n",
    "    x_train[isnan(x_train)] = 0\n",
    "    x_test[isnan(x_test)] = 0  \n",
    "        \n",
    "    ##---  optimize MLP with Genetic Algorithm under inner loop cross validation   ---##\n",
    "    opt = BayesSearchCV(neural_network.MLPClassifier(), search_spaces, n_iter=30, cv=n_inner, scoring='neg_brier_score', random_state=920)\n",
    "    # executes bayesian optimization\n",
    "    clf = opt.fit(x_train, y_train)\n",
    "        \n",
    "    # Calculate performance on test set\n",
    "    fpr, tpr, threshold = roc_curve(y.iloc[test_index][:].values, clf.predict_proba(x_test)[:,1], pos_label=1)\n",
    "    score_kfold.append(auc(fpr,tpr))\n",
    "    print('Performance on %d-fold is %.2f' %(i,score_kfold[i]))\n",
    "    i+=1\n",
    "\n",
    "print('Mean score over k-fold outer loop is %.2f' %mean(score_kfold))"
   ]
  }
 ],
 "metadata": {
  "kernelspec": {
   "display_name": "Python 3",
   "language": "python",
   "name": "python3"
  },
  "language_info": {
   "codemirror_mode": {
    "name": "ipython",
    "version": 3
   },
   "file_extension": ".py",
   "mimetype": "text/x-python",
   "name": "python",
   "nbconvert_exporter": "python",
   "pygments_lexer": "ipython3",
   "version": "3.7.6"
  }
 },
 "nbformat": 4,
 "nbformat_minor": 5
}
