{
 "cells": [
  {
   "cell_type": "markdown",
   "id": "f6dc7346",
   "metadata": {},
   "source": [
    "# Parameter Tuning Demo"
   ]
  },
  {
   "cell_type": "markdown",
   "id": "e173e101",
   "metadata": {},
   "source": [
    "## Some Package Import and Data Preparation"
   ]
  },
  {
   "cell_type": "code",
   "execution_count": 1,
   "id": "1218d70b",
   "metadata": {},
   "outputs": [
    {
     "name": "stdout",
     "output_type": "stream",
     "text": [
      "The number of samples and features are 423 and 45, respectively\n"
     ]
    }
   ],
   "source": [
    "import pandas as pd\n",
    "import numpy as np\n",
    "import warnings\n",
    "import time\n",
    "\n",
    "\n",
    "from numpy import *\n",
    "from sklearn import *\n",
    "from sklearn.metrics import roc_curve, auc\n",
    "from skopt import BayesSearchCV\n",
    "from skopt.space import Real, Categorical, Integer\n",
    "\n",
    "warnings.filterwarnings('ignore')\n",
    "\n",
    "xl = pd.ExcelFile('data2.xlsx')\n",
    "xl.sheet_names # we'll take 7th\n",
    "dfs = {sheet: xl.parse(sheet) for sheet in xl.sheet_names}\n",
    "data1 = dfs['7']\n",
    "data2 = dfs['1'].loc[:,['Patient','Age at Diagnosis']].drop([554]).drop_duplicates()\n",
    "data3 = pd.read_csv('data1.csv')\n",
    "combined_data = data1.set_index('Patient').join(data2.set_index('Patient')).join(data3.set_index('Patient'))\n",
    "combined_data['label'] = (combined_data['Patient Type'] == 'Healthy').astype(int)\n",
    "combined_data = combined_data.drop(['Patient Type'],axis=1)\n",
    "print('The number of samples and features are %d and %d, respectively'%(combined_data.shape[0],combined_data.shape[1]))\n",
    "\n",
    "x = combined_data.iloc[:, 0:44]\n",
    "x[isnan(x)] = 0\n",
    "y = combined_data.iloc[:,44]"
   ]
  },
  {
   "cell_type": "markdown",
   "id": "aa0df6a7",
   "metadata": {},
   "source": [
    "- Grid Search."
   ]
  },
  {
   "cell_type": "code",
   "execution_count": 53,
   "id": "b2ec2a07",
   "metadata": {},
   "outputs": [
    {
     "name": "stdout",
     "output_type": "stream",
     "text": [
      "Performance on 0-fold is 0.90\n",
      "Performance on 1-fold is 0.85\n",
      "Performance on 2-fold is 0.92\n",
      "Performance on 3-fold is 0.96\n",
      "Performance on 4-fold is 0.93\n",
      "Grid Search takes 3147.0seconds.\n",
      "\n",
      "Mean score over k-fold outer loop is 0.91\n"
     ]
    }
   ],
   "source": [
    "start = time.process_time()\n",
    "n_outer = 5 # number of splits for outer loop\n",
    "n_inner = 5 # number of splits for inner loop\n",
    "rangeC = [10**-4, 10**2] # list, float, range of parameter C,eg.[10**-2, 10**2]\n",
    "rangeGamma = [10**-6, 1] # list, float, range of parameter Gamma,eg.[10**-6, 1]\n",
    "num_C =10\n",
    "num_gamma = 5\n",
    "parameters = {'kernel':['linear','rbf','poly'],\n",
    "              'degree':[2, 3],\n",
    "              'C':logspace(log10(rangeC[0]),log10(rangeC[1]),num_C),\n",
    "              'gamma':logspace(log10(rangeGamma[0]),log10(rangeGamma[1]),num_gamma)}\n",
    "\n",
    "##---Classification with nested 10*5-fold cross-validation---##\n",
    "#--- x is feature, y is lable, n is number of fold\n",
    "#---  define outer loop of K-fold cross validation ---#\n",
    "KF = model_selection.StratifiedKFold(n_outer, shuffle=True, random_state=920)\n",
    "score_kfold = []\n",
    "i = 0\n",
    "for train_index,test_index in KF.split(x,y):\n",
    "    #---  Seperate traing set and test set ---#\n",
    "    x_train, x_test = x.iloc[train_index][:], x.iloc[test_index][:]\n",
    "    y_train = y.iloc[train_index][:]\n",
    "        \n",
    "    #---  Fill NaN age ---#\n",
    "    x_train[isnan(x_train)] = 0\n",
    "    x_test[isnan(x_test)] = 0  \n",
    "        \n",
    "    ##---  optimize SVM with Grid Search with inner loop cross validation---##\n",
    "    clf = model_selection.GridSearchCV(svm.SVC(kernel = 'rbf',probability = True),parameters, cv=n_inner, verbose=0,scoring='roc_auc',random_state=920)\n",
    "    clf.fit(x_train, y_train)\n",
    "        \n",
    "    # Calculate performance on test set\n",
    "    fpr, tpr, threshold = roc_curve(y.iloc[test_index][:].values, clf.predict_proba(x_test)[:,1], pos_label=1)\n",
    "    score_kfold.append(auc(fpr,tpr))\n",
    "    print('Performance on %d-fold is %.2f' %(i,score_kfold[i]))\n",
    "    i+=1\n",
    "\n",
    "end = time.process_time()\n",
    "print('Grid Search takes '+str(end - start)+'seconds.\\n') \n",
    "print('Mean score over k-fold outer loop is %.2f' %mean(score_kfold))"
   ]
  },
  {
   "cell_type": "markdown",
   "id": "d9dab2cd",
   "metadata": {},
   "source": [
    "- Random Search."
   ]
  },
  {
   "cell_type": "code",
   "execution_count": 5,
   "id": "7df134b7",
   "metadata": {},
   "outputs": [
    {
     "name": "stdout",
     "output_type": "stream",
     "text": [
      "Performance on 0-fold is 0.92\n",
      "Performance on 1-fold is 0.94\n",
      "Performance on 2-fold is 0.88\n",
      "Performance on 3-fold is 0.94\n",
      "Performance on 4-fold is 0.94\n",
      "Random Search takes 141.4375seconds.\n",
      "\n",
      "Mean score over k-fold outer loop is 0.93\n"
     ]
    }
   ],
   "source": [
    "start = time.process_time()\n",
    "n_outer = 5 # number of splits for outer loop\n",
    "n_inner = 5 # number of splits for inner loop\n",
    "rangeC = [10**-4, 10**2] # list, float, range of parameter C,eg.[10**-2, 10**2]\n",
    "rangeGamma = [10**-6, 1] # list, float, range of parameter Gamma,eg.[10**-6, 1]\n",
    "num_C =10\n",
    "num_gamma = 10\n",
    "parameters = {'kernel':['linear','rbf','poly'],\n",
    "              'degree':[2, 3],\n",
    "              'C':logspace(log10(rangeC[0]),log10(rangeC[1]),num_C),\n",
    "              'gamma':logspace(log10(rangeGamma[0]),log10(rangeGamma[1]),num_gamma)}\n",
    "n_iter_search = 20\n",
    "\n",
    "##---Classification with nested 10*5-fold cross-validation---##\n",
    "#--- x is feature, y is lable, n is number of fold\n",
    "#---  define outer loop of K-fold cross validation ---#\n",
    "KF = model_selection.StratifiedKFold(n_outer, shuffle=True, random_state=920)\n",
    "score_kfold = []\n",
    "i = 0\n",
    "for train_index,test_index in KF.split(x,y):\n",
    "    #---  Seperate traing set and test set ---#\n",
    "    x_train, x_test = x.iloc[train_index][:], x.iloc[test_index][:]\n",
    "    y_train = y.iloc[train_index][:]\n",
    "        \n",
    "    #---  Fill NaN age ---#\n",
    "    x_train[isnan(x_train)] = 0\n",
    "    x_test[isnan(x_test)] = 0  \n",
    "        \n",
    "    ##---  optimize SVM with Grid Search with inner loop cross validation---##\n",
    "    clf = model_selection.RandomizedSearchCV(svm.SVC(probability = True),parameters, cv=n_inner, verbose=0,scoring='roc_auc',n_iter=n_iter_search,random_state=920)\n",
    "    clf.fit(x_train, y_train)\n",
    "        \n",
    "    # Calculate performance on test set\n",
    "    fpr, tpr, threshold = roc_curve(y.iloc[test_index][:].values, clf.predict_proba(x_test)[:,1], pos_label=1)\n",
    "    score_kfold.append(auc(fpr,tpr))\n",
    "    print('Performance on %d-fold is %.2f' %(i,score_kfold[i]))\n",
    "    i+=1\n",
    "\n",
    "end = time.process_time()\n",
    "print('Random Search takes '+str(end - start)+'seconds.\\n') \n",
    "print('Mean score over k-fold outer loop is %.2f' %mean(score_kfold))"
   ]
  },
  {
   "cell_type": "markdown",
   "id": "3ba46af2",
   "metadata": {},
   "source": [
    "- Meta-heuristic (Genetic Algorithm)."
   ]
  },
  {
   "cell_type": "code",
   "execution_count": 4,
   "id": "e174771a",
   "metadata": {
    "scrolled": true
   },
   "outputs": [
    {
     "name": "stdout",
     "output_type": "stream",
     "text": [
      "Performance on 0-fold is 0.95\n",
      "Performance on 1-fold is 0.86\n",
      "Performance on 2-fold is 0.88\n",
      "Performance on 3-fold is 0.94\n",
      "Performance on 4-fold is 0.91\n",
      "Genetic Algorithm takes 27078.703125seconds.\n",
      "\n",
      "Mean score over k-fold outer loop is 0.91\n"
     ]
    }
   ],
   "source": [
    "# ---------------------------------------------------#   \n",
    "#   Parameter Tuning with Meta-heuristic algorithms #\n",
    "#--------------------------------------------------# \n",
    "from sko.GA import GA\n",
    "\n",
    "##---   Define objective function   ---##\n",
    "def obj_fun(parameter):\n",
    "    C,kernel,degree,gamma = parameter\n",
    "    if kernel == 0:\n",
    "        kernel = 'linear'\n",
    "    else:\n",
    "        if kernel ==1:\n",
    "            kernel = 'rbf'\n",
    "        else:\n",
    "            kernel = 'poly'\n",
    "            \n",
    "    KF = model_selection.StratifiedKFold(n_inner, shuffle=True, random_state=920)\n",
    "    scorein_kfold = []\n",
    "    for train_indexcv,test_indexcv in KF.split(x_train, y_train):\n",
    "        x_traincv, x_testcv = x_train.iloc[train_indexcv][:], x_train.iloc[test_indexcv][:]\n",
    "        y_traincv, y_testcv = y_train.iloc[train_indexcv][:], y_train.iloc[test_indexcv][:]\n",
    "        clf = svm.SVC(C, kernel, degree, gamma, probability= True).fit(x_traincv, y_traincv)\n",
    "        # Calculate performance on test set\n",
    "        fpr, tpr, threshold = metrics.roc_curve(y_testcv.values, clf.predict_proba(x_testcv)[:,1], pos_label=1)\n",
    "        scorein_kfold.append(metrics.auc(fpr,tpr))\n",
    "        \n",
    "    scorein_kfold = -mean(scorein_kfold)\n",
    "#     print(score_kfold)\n",
    "    return scorein_kfold\n",
    "\n",
    "start = time.process_time()\n",
    "n_outer = 5 # number of splits for outer loop\n",
    "n_inner = 5 # number of splits for inner loop\n",
    "\n",
    "##---   Classification with nested 5*5-fold cross-validation   ---##\n",
    "#---  define outer loop of K-fold cross validation ---#\n",
    "KF = model_selection.StratifiedKFold(n_outer, shuffle=True, random_state=1105)\n",
    "score_kfold = []\n",
    "i = 0\n",
    "for train_index,test_index in KF.split(x,y):\n",
    "    #---  Seperate traing set and test set ---#\n",
    "    x_train, x_test = x.iloc[train_index][:], x.iloc[test_index][:]\n",
    "    y_train = y.iloc[train_index][:]\n",
    "        \n",
    "    #---  Fill NaN age ---#\n",
    "    x_train[isnan(x_train)] = 0\n",
    "    x_test[isnan(x_test)] = 0  \n",
    "        \n",
    "    ##---  optimize SVM with Genetic Algorithm under inner loop cross validation   ---##\n",
    "    ga = GA(func=obj_fun, n_dim=4, size_pop=12, max_iter=20, lb=[10**-4, 0, 2, 10**-6], ub=[10**2, 2, 3, 1], precision=[1e-2, 1, 1, 1e-2])\n",
    "    best_parameter, best_y = ga.run()\n",
    "    C,kernel,degree,gamma = best_parameter\n",
    "    if kernel == 0:\n",
    "        kernel = 'linear'\n",
    "    else:\n",
    "        if kernel == 1:\n",
    "            kernel = 'rbf'\n",
    "        else:\n",
    "            kernel = 'poly'\n",
    "    clf = svm.SVC(C, kernel, degree, gamma, probability= True).fit(x_train, y_train)\n",
    "        \n",
    "    # Calculate performance on test set\n",
    "    fpr, tpr, threshold = roc_curve(y.iloc[test_index][:].values, clf.predict_proba(x_test)[:,1], pos_label=1)\n",
    "    score_kfold.append(auc(fpr,tpr))\n",
    "    print('Performance on %d-fold is %.2f' %(i,score_kfold[i]))\n",
    "    i+=1\n",
    "\n",
    "end = time.process_time()\n",
    "print('Genetic Algorithm takes '+str(end - start)+'seconds.\\n') \n",
    "print('Mean score over k-fold outer loop is %.2f' %mean(score_kfold))"
   ]
  },
  {
   "cell_type": "markdown",
   "id": "ede211c4",
   "metadata": {},
   "source": [
    "- Bayesian optimization."
   ]
  },
  {
   "cell_type": "code",
   "execution_count": 6,
   "id": "0a7eecb9",
   "metadata": {},
   "outputs": [
    {
     "name": "stdout",
     "output_type": "stream",
     "text": [
      "Performance on 0-fold is 0.92\n",
      "Performance on 1-fold is 0.86\n",
      "Performance on 2-fold is 0.92\n",
      "Performance on 3-fold is 0.98\n",
      "Performance on 4-fold is 0.93\n",
      "Bayesian optimization takes 3222.203125seconds.\n",
      "\n",
      "Mean score over k-fold outer loop is 0.92\n"
     ]
    }
   ],
   "source": [
    "# ---------------------------------------------------#   \n",
    "#   Parameter Tuning with Bayesian optimization #\n",
    "#--------------------------------------------------# \n",
    "\n",
    "##---   Define search space   ---##\n",
    "search_spaces = {'kernel': Categorical(['linear', 'poly', 'rbf']),\n",
    "              'degree':Integer(1,3),\n",
    "              'C':Real(1e-4, 1e+2, prior='log-uniform'),\n",
    "              'gamma':Real(1e-6, 1e+1, prior='log-uniform')}\n",
    "\n",
    "start = time.process_time()\n",
    "n_outer = 5 # number of splits for outer loop\n",
    "n_inner = 5 # number of splits for inner loop\n",
    "\n",
    "##---   Classification with nested 5*5-fold cross-validation   ---##\n",
    "#---  define outer loop of K-fold cross validation ---#\n",
    "KF = model_selection.StratifiedKFold(n_outer, shuffle=True, random_state=920)\n",
    "score_kfold = []\n",
    "i = 0\n",
    "for train_index,test_index in KF.split(x,y):\n",
    "    #---  Seperate traing set and test set ---#\n",
    "    x_train, x_test = x.iloc[train_index][:], x.iloc[test_index][:]\n",
    "    y_train = y.iloc[train_index][:]\n",
    "        \n",
    "    #---  Fill NaN age ---#\n",
    "    x_train[isnan(x_train)] = 0\n",
    "    x_test[isnan(x_test)] = 0  \n",
    "        \n",
    "    ##---  optimize SVM with Genetic Algorithm under inner loop cross validation   ---##\n",
    "    opt = BayesSearchCV(svm.SVC(probability = True), search_spaces, n_iter=50, cv=n_inner, scoring='roc_auc', random_state=920)\n",
    "    # executes bayesian optimization\n",
    "    clf = opt.fit(x_train, y_train)\n",
    "        \n",
    "    # Calculate performance on test set\n",
    "    fpr, tpr, threshold = roc_curve(y.iloc[test_index][:].values, clf.predict_proba(x_test)[:,1], pos_label=1)\n",
    "    score_kfold.append(auc(fpr,tpr))\n",
    "    print('Performance on %d-fold is %.2f' %(i,score_kfold[i]))\n",
    "    i+=1\n",
    "\n",
    "end = time.process_time()\n",
    "print('Bayesian optimization takes '+str(end - start)+'seconds.\\n') \n",
    "print('Mean score over k-fold outer loop is %.2f' %mean(score_kfold))"
   ]
  }
 ],
 "metadata": {
  "kernelspec": {
   "display_name": "Python 3",
   "language": "python",
   "name": "python3"
  },
  "language_info": {
   "codemirror_mode": {
    "name": "ipython",
    "version": 3
   },
   "file_extension": ".py",
   "mimetype": "text/x-python",
   "name": "python",
   "nbconvert_exporter": "python",
   "pygments_lexer": "ipython3",
   "version": "3.7.6"
  }
 },
 "nbformat": 4,
 "nbformat_minor": 5
}
